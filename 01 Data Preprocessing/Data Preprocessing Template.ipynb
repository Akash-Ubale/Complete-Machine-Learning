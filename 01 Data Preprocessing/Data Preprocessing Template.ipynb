{
 "cells": [
  {
   "cell_type": "code",
   "execution_count": 1,
   "metadata": {},
   "outputs": [
    {
     "name": "stdout",
     "output_type": "stream",
     "text": [
      "dataset:\n",
      "    Country   Age   Salary Purchased\n",
      "0   France  44.0  72000.0        No\n",
      "1    Spain  27.0  48000.0       Yes\n",
      "2  Germany  30.0  54000.0        No\n",
      "3    Spain  38.0  61000.0        No\n",
      "4  Germany  40.0      NaN       Yes\n",
      "\n",
      "x:\n",
      " [['France' 44.0 72000.0]\n",
      " ['Spain' 27.0 48000.0]\n",
      " ['Germany' 30.0 54000.0]\n",
      " ['Spain' 38.0 61000.0]\n",
      " ['Germany' 40.0 nan]\n",
      " ['France' 35.0 58000.0]\n",
      " ['Spain' nan 52000.0]\n",
      " ['France' 48.0 79000.0]\n",
      " ['Germany' 50.0 83000.0]\n",
      " ['France' 37.0 67000.0]]\n",
      "\n",
      "y:\n",
      " ['No' 'Yes' 'No' 'No' 'Yes' 'Yes' 'No' 'Yes' 'No' 'Yes']\n"
     ]
    },
    {
     "data": {
      "text/plain": [
       "'\\nfrom sklearn.impute import SimpleImputer\\nimputer = SimpleImputer(missing_values=np.nan, strategy=\"mean\")\\nimputer.fit(x[:, 1:3])\\nx[: ,[1,2]]  = imputer.transform(x[:, 1:3])\\n#print(\"x:\",x)\\n'"
      ]
     },
     "execution_count": 1,
     "metadata": {},
     "output_type": "execute_result"
    }
   ],
   "source": [
    "# Importing Libraries\n",
    "import pandas as pd\n",
    "import numpy as np\n",
    "import matplotlib.pyplot as plt\n",
    "\n",
    "\n",
    "# Importing Dataset\n",
    "dataset = pd.read_csv(\"Data.csv\")\n",
    "print(\"dataset:\\n\",dataset.head())\n",
    "\n",
    "## Now we need to separate the Features and label bcz our ML Models expects the data to be this way.\n",
    "x = dataset.iloc[:, :-1].values # iloc - Locate Indices\n",
    "y = dataset.iloc[:, -1].values\n",
    "print(\"\\nx:\\n\", x)\n",
    "print(\"\\ny:\\n\", y)\n",
    "\n",
    "# Checking for missing values\n",
    "print(dataset.isnull().sum())\n",
    "\n",
    "\n",
    "# If there are missing values perform this\n",
    "\"\"\"\n",
    "from sklearn.impute import SimpleImputer\n",
    "imputer = SimpleImputer(missing_values=np.nan, strategy=\"mean\")\n",
    "imputer.fit(x[:, 1:3])\n",
    "x[: ,[1,2]]  = imputer.transform(x[:, 1:3])\n",
    "#print(\"x:\",x)\n",
    "\"\"\"\n",
    "\n",
    "# If there is categorical feature in the Dataset use this - OneHotEncoder\n",
    "\"\"\"\n",
    "from sklearn.compose import ColumnTransformer\n",
    "from sklearn.preprocessing import OneHotEncoder\n",
    "ct = ColumnTransformer(transformers=[('encoder',OneHotEncoder(drop=\"first\"),[0])], remainder=\"passthrough\")\n",
    "x = ct.fit_transform(x)\n",
    "\n",
    "# our ML Model expects training data to be in np.array formt\n",
    "x = np.array(x)\n",
    "print(\"OneHotEncoded x\\n\", x)\n",
    "\"\"\"\n",
    "\n",
    "# If the feature is Qualitative or binary use - \n",
    "\"\"\"\n",
    "from sklearn.preprocessing import LabelEncoder\n",
    "le = LabelEncoder()\n",
    "y = le.fit_transform(y)\n",
    "print(\"Label Encoded y:\\n\", y)\n",
    "\"\"\"\n",
    "\n",
    "# Train Test Splitting\n",
    "from sklearn.model_selection import train_test_split\n",
    "x_train, x_test, y_train, y_test = train_test_split(x, y, test_size=0.2, random_state=1)\n",
    "\n",
    "# Feature Scaling\n",
    "\"\"\"\n",
    "from sklearn.preprocessing import StandardScaler\n",
    "sc = StandardScaler()\n",
    "x_train[:, 2:] = sc.fit_transform(x_train[:, 2:])\n",
    "x_test[:, 2:] = sc.transform(x_test[:, 2:])\n",
    "print(x_train)\n",
    "\"\"\"\n",
    "\n"
   ]
  },
  {
   "cell_type": "code",
   "execution_count": 3,
   "metadata": {},
   "outputs": [
    {
     "name": "stdout",
     "output_type": "stream",
     "text": [
      "Country      0\n",
      "Age          1\n",
      "Salary       1\n",
      "Purchased    0\n",
      "dtype: int64\n"
     ]
    }
   ],
   "source": []
  },
  {
   "cell_type": "code",
   "execution_count": null,
   "metadata": {},
   "outputs": [],
   "source": []
  }
 ],
 "metadata": {
  "kernelspec": {
   "display_name": "Python 3",
   "language": "python",
   "name": "python3"
  },
  "language_info": {
   "codemirror_mode": {
    "name": "ipython",
    "version": 3
   },
   "file_extension": ".py",
   "mimetype": "text/x-python",
   "name": "python",
   "nbconvert_exporter": "python",
   "pygments_lexer": "ipython3",
   "version": "3.7.7"
  }
 },
 "nbformat": 4,
 "nbformat_minor": 4
}
