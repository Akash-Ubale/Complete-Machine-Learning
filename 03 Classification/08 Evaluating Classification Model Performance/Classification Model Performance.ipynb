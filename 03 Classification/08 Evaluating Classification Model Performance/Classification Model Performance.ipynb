{
 "cells": [
  {
   "cell_type": "markdown",
   "metadata": {},
   "source": [
    "# Classification Model Performance"
   ]
  },
  {
   "cell_type": "markdown",
   "metadata": {},
   "source": [
    "## Confusion Matrix:\n",
    "\n",
    "<img src=\"confusion_matrix.png\" width=500>"
   ]
  },
  {
   "cell_type": "markdown",
   "metadata": {},
   "source": [
    "Generally Type 2 Error is more harmfull than the type 1 error, but not always.\n",
    "\n",
    "Ex. Suppose we made a model to predict the earthquake.\n",
    " \n",
    "* Type 1 error - model predicts an earthquake but earthquake doesn't happen. So this case is less harmful.\n",
    "* Type 2 error - Model predicts No Earthquake but Earthquake happens , Now this case is very dangerous."
   ]
  },
  {
   "cell_type": "markdown",
   "metadata": {},
   "source": [
    "* Only relying on accuracy is not a good idea. It could be misleading. Hence we will see the Cumulative Accuracy Profile (CAP) graph, ROC curve, AUC curve."
   ]
  },
  {
   "cell_type": "markdown",
   "metadata": {},
   "source": [
    "## CAP Curve\n",
    "\n",
    "<img src=\"cap_graph.png\">"
   ]
  },
  {
   "cell_type": "markdown",
   "metadata": {},
   "source": [
    "## CAP Analysis:\n",
    "\n",
    "<img src=\"cap_analysis.png\">\n",
    "\n",
    "\n",
    "<img src=\"cap_analysis2.png\">"
   ]
  },
  {
   "cell_type": "code",
   "execution_count": null,
   "metadata": {},
   "outputs": [],
   "source": []
  }
 ],
 "metadata": {
  "kernelspec": {
   "display_name": "Python 3",
   "language": "python",
   "name": "python3"
  },
  "language_info": {
   "codemirror_mode": {
    "name": "ipython",
    "version": 3
   },
   "file_extension": ".py",
   "mimetype": "text/x-python",
   "name": "python",
   "nbconvert_exporter": "python",
   "pygments_lexer": "ipython3",
   "version": "3.7.7"
  }
 },
 "nbformat": 4,
 "nbformat_minor": 4
}
