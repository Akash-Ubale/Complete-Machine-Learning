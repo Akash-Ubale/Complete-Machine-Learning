{
 "cells": [
  {
   "cell_type": "markdown",
   "metadata": {},
   "source": [
    "## Importing the dataset"
   ]
  },
  {
   "cell_type": "code",
   "execution_count": 1,
   "metadata": {},
   "outputs": [
    {
     "data": {
      "text/html": [
       "<div>\n",
       "<style scoped>\n",
       "    .dataframe tbody tr th:only-of-type {\n",
       "        vertical-align: middle;\n",
       "    }\n",
       "\n",
       "    .dataframe tbody tr th {\n",
       "        vertical-align: top;\n",
       "    }\n",
       "\n",
       "    .dataframe thead th {\n",
       "        text-align: right;\n",
       "    }\n",
       "</style>\n",
       "<table border=\"1\" class=\"dataframe\">\n",
       "  <thead>\n",
       "    <tr style=\"text-align: right;\">\n",
       "      <th></th>\n",
       "      <th>Sample code number</th>\n",
       "      <th>Clump Thickness</th>\n",
       "      <th>Uniformity of Cell Size</th>\n",
       "      <th>Uniformity of Cell Shape</th>\n",
       "      <th>Marginal Adhesion</th>\n",
       "      <th>Single Epithelial Cell Size</th>\n",
       "      <th>Bare Nuclei</th>\n",
       "      <th>Bland Chromatin</th>\n",
       "      <th>Normal Nucleoli</th>\n",
       "      <th>Mitoses</th>\n",
       "      <th>Class</th>\n",
       "    </tr>\n",
       "  </thead>\n",
       "  <tbody>\n",
       "    <tr>\n",
       "      <th>0</th>\n",
       "      <td>1000025</td>\n",
       "      <td>5</td>\n",
       "      <td>1</td>\n",
       "      <td>1</td>\n",
       "      <td>1</td>\n",
       "      <td>2</td>\n",
       "      <td>1</td>\n",
       "      <td>3</td>\n",
       "      <td>1</td>\n",
       "      <td>1</td>\n",
       "      <td>2</td>\n",
       "    </tr>\n",
       "    <tr>\n",
       "      <th>1</th>\n",
       "      <td>1002945</td>\n",
       "      <td>5</td>\n",
       "      <td>4</td>\n",
       "      <td>4</td>\n",
       "      <td>5</td>\n",
       "      <td>7</td>\n",
       "      <td>10</td>\n",
       "      <td>3</td>\n",
       "      <td>2</td>\n",
       "      <td>1</td>\n",
       "      <td>2</td>\n",
       "    </tr>\n",
       "    <tr>\n",
       "      <th>2</th>\n",
       "      <td>1015425</td>\n",
       "      <td>3</td>\n",
       "      <td>1</td>\n",
       "      <td>1</td>\n",
       "      <td>1</td>\n",
       "      <td>2</td>\n",
       "      <td>2</td>\n",
       "      <td>3</td>\n",
       "      <td>1</td>\n",
       "      <td>1</td>\n",
       "      <td>2</td>\n",
       "    </tr>\n",
       "    <tr>\n",
       "      <th>3</th>\n",
       "      <td>1016277</td>\n",
       "      <td>6</td>\n",
       "      <td>8</td>\n",
       "      <td>8</td>\n",
       "      <td>1</td>\n",
       "      <td>3</td>\n",
       "      <td>4</td>\n",
       "      <td>3</td>\n",
       "      <td>7</td>\n",
       "      <td>1</td>\n",
       "      <td>2</td>\n",
       "    </tr>\n",
       "    <tr>\n",
       "      <th>4</th>\n",
       "      <td>1017023</td>\n",
       "      <td>4</td>\n",
       "      <td>1</td>\n",
       "      <td>1</td>\n",
       "      <td>3</td>\n",
       "      <td>2</td>\n",
       "      <td>1</td>\n",
       "      <td>3</td>\n",
       "      <td>1</td>\n",
       "      <td>1</td>\n",
       "      <td>2</td>\n",
       "    </tr>\n",
       "  </tbody>\n",
       "</table>\n",
       "</div>"
      ],
      "text/plain": [
       "   Sample code number  Clump Thickness  Uniformity of Cell Size  \\\n",
       "0             1000025                5                        1   \n",
       "1             1002945                5                        4   \n",
       "2             1015425                3                        1   \n",
       "3             1016277                6                        8   \n",
       "4             1017023                4                        1   \n",
       "\n",
       "   Uniformity of Cell Shape  Marginal Adhesion  Single Epithelial Cell Size  \\\n",
       "0                         1                  1                            2   \n",
       "1                         4                  5                            7   \n",
       "2                         1                  1                            2   \n",
       "3                         8                  1                            3   \n",
       "4                         1                  3                            2   \n",
       "\n",
       "   Bare Nuclei  Bland Chromatin  Normal Nucleoli  Mitoses  Class  \n",
       "0            1                3                1        1      2  \n",
       "1           10                3                2        1      2  \n",
       "2            2                3                1        1      2  \n",
       "3            4                3                7        1      2  \n",
       "4            1                3                1        1      2  "
      ]
     },
     "execution_count": 1,
     "metadata": {},
     "output_type": "execute_result"
    }
   ],
   "source": [
    "import pandas as pd\n",
    "dataset = pd.read_csv(\"Data.csv\")\n",
    "dataset.head()"
   ]
  },
  {
   "cell_type": "code",
   "execution_count": 2,
   "metadata": {},
   "outputs": [],
   "source": [
    "X = dataset.iloc[:, :-1].values\n",
    "y = dataset.iloc[:, -1].values"
   ]
  },
  {
   "cell_type": "markdown",
   "metadata": {},
   "source": [
    "## Check for missing values"
   ]
  },
  {
   "cell_type": "code",
   "execution_count": 3,
   "metadata": {},
   "outputs": [
    {
     "data": {
      "text/plain": [
       "Sample code number             0\n",
       "Clump Thickness                0\n",
       "Uniformity of Cell Size        0\n",
       "Uniformity of Cell Shape       0\n",
       "Marginal Adhesion              0\n",
       "Single Epithelial Cell Size    0\n",
       "Bare Nuclei                    0\n",
       "Bland Chromatin                0\n",
       "Normal Nucleoli                0\n",
       "Mitoses                        0\n",
       "Class                          0\n",
       "dtype: int64"
      ]
     },
     "execution_count": 3,
     "metadata": {},
     "output_type": "execute_result"
    }
   ],
   "source": [
    "dataset.isnull().sum()"
   ]
  },
  {
   "cell_type": "markdown",
   "metadata": {},
   "source": [
    "No missing values let's move ahead.\n",
    "\n",
    "## Splitting the data "
   ]
  },
  {
   "cell_type": "code",
   "execution_count": 4,
   "metadata": {},
   "outputs": [],
   "source": [
    "from sklearn.model_selection import train_test_split\n",
    "X_train, X_test, y_train, y_test = train_test_split(X, y, test_size=0.2, random_state=0)"
   ]
  },
  {
   "cell_type": "markdown",
   "metadata": {},
   "source": [
    "## Feature Scaling"
   ]
  },
  {
   "cell_type": "code",
   "execution_count": 5,
   "metadata": {},
   "outputs": [],
   "source": [
    "from sklearn.preprocessing import StandardScaler\n",
    "sc = StandardScaler()\n",
    "X_train = sc.fit_transform(X_train)\n",
    "X_test = sc.transform(X_test)"
   ]
  },
  {
   "cell_type": "markdown",
   "metadata": {},
   "source": [
    "## Creating Different Classification Models"
   ]
  },
  {
   "cell_type": "code",
   "execution_count": 6,
   "metadata": {},
   "outputs": [],
   "source": [
    "from sklearn.linear_model import LogisticRegression\n",
    "from sklearn.neighbors import KNeighborsClassifier\n",
    "from sklearn.svm import SVC\n",
    "from sklearn.naive_bayes import GaussianNB\n",
    "from sklearn.tree import DecisionTreeClassifier\n",
    "from sklearn.ensemble import RandomForestClassifier\n",
    "from sklearn.metrics import confusion_matrix, accuracy_score\n",
    "\n",
    "\n",
    "log_reg = LogisticRegression(random_state=0)\n",
    "knn = KNeighborsClassifier()\n",
    "linear_svc = SVC(kernel='linear', random_state=0)\n",
    "poly_svc = SVC(kernel='poly', random_state=0)\n",
    "rbf_svc = SVC(kernel='rbf', random_state=0)\n",
    "sigmoid_svc = SVC(kernel='sigmoid', random_state=0)\n",
    "nb = GaussianNB()\n",
    "dt = DecisionTreeClassifier(random_state=0)\n",
    "rf = RandomForestClassifier(random_state=0)"
   ]
  },
  {
   "cell_type": "markdown",
   "metadata": {},
   "source": [
    "## Training All the Models"
   ]
  },
  {
   "cell_type": "code",
   "execution_count": 7,
   "metadata": {
    "scrolled": true
   },
   "outputs": [
    {
     "name": "stdout",
     "output_type": "stream",
     "text": [
      "\n",
      "Model:  LogisticRegression(random_state=0)\n",
      "Confusion Matrix:\n",
      " [[84  3]\n",
      " [ 3 47]]\n",
      "Accuracy Score:  0.9562043795620438\n",
      "\n",
      "Model:  KNeighborsClassifier()\n",
      "Confusion Matrix:\n",
      " [[83  4]\n",
      " [ 2 48]]\n",
      "Accuracy Score:  0.9562043795620438\n",
      "\n",
      "Model:  SVC(kernel='linear', random_state=0)\n",
      "Confusion Matrix:\n",
      " [[83  4]\n",
      " [ 2 48]]\n",
      "Accuracy Score:  0.9562043795620438\n",
      "\n",
      "Model:  SVC(kernel='poly', random_state=0)\n",
      "Confusion Matrix:\n",
      " [[86  1]\n",
      " [ 7 43]]\n",
      "Accuracy Score:  0.9416058394160584\n",
      "\n",
      "Model:  SVC(random_state=0)\n",
      "Confusion Matrix:\n",
      " [[82  5]\n",
      " [ 1 49]]\n",
      "Accuracy Score:  0.9562043795620438\n",
      "\n",
      "Model:  SVC(kernel='sigmoid', random_state=0)\n",
      "Confusion Matrix:\n",
      " [[82  5]\n",
      " [ 2 48]]\n",
      "Accuracy Score:  0.948905109489051\n",
      "\n",
      "Model:  GaussianNB()\n",
      "Confusion Matrix:\n",
      " [[80  7]\n",
      " [ 0 50]]\n",
      "Accuracy Score:  0.948905109489051\n",
      "\n",
      "Model:  DecisionTreeClassifier(random_state=0)\n",
      "Confusion Matrix:\n",
      " [[80  7]\n",
      " [ 3 47]]\n",
      "Accuracy Score:  0.927007299270073\n",
      "\n",
      "Model:  RandomForestClassifier(random_state=0)\n",
      "Confusion Matrix:\n",
      " [[84  3]\n",
      " [ 1 49]]\n",
      "Accuracy Score:  0.9708029197080292\n",
      "====================================================================================================\n",
      "\n",
      "The Best Model is:  RandomForestClassifier(random_state=0)\n",
      "With Accuracy Score:  0.9708029197080292\n"
     ]
    }
   ],
   "source": [
    "classifiers = [log_reg, knn, linear_svc, poly_svc, rbf_svc, sigmoid_svc, nb, dt, rf]\n",
    "best_acc_score = 0\n",
    "for classifier in classifiers:\n",
    "    classifier.fit(X_train, y_train)\n",
    "    y_pred = classifier.predict(X_test)\n",
    "    cm = confusion_matrix(y_test, y_pred)\n",
    "    print(\"\\nModel: \", classifier)\n",
    "    print(\"Confusion Matrix:\\n\", cm)\n",
    "    new_acc_score = accuracy_score(y_test, y_pred)\n",
    "    print(\"Accuracy Score: \",new_acc_score)\n",
    "    if new_acc_score > best_acc_score:\n",
    "        best_acc_score = new_acc_score\n",
    "        best_model = classifier\n",
    "print(\"==\"*50)\n",
    "print(\"\\nThe Best Model is: \", classifier)\n",
    "print(\"With Accuracy Score: \",best_acc_score)"
   ]
  },
  {
   "cell_type": "markdown",
   "metadata": {},
   "source": [
    "## Cross validating all the Models"
   ]
  },
  {
   "cell_type": "code",
   "execution_count": 8,
   "metadata": {},
   "outputs": [
    {
     "name": "stdout",
     "output_type": "stream",
     "text": [
      "LogisticRegression(random_state=0)\n",
      "Accuracy: 96.70 %\n",
      "Standard Deviation: 1.97 %\n",
      "==================================================================================================== \n",
      "\n",
      "KNeighborsClassifier()\n",
      "Accuracy: 96.70 %\n",
      "Standard Deviation: 1.79 %\n",
      "==================================================================================================== \n",
      "\n",
      "SVC(kernel='linear', random_state=0)\n",
      "Accuracy: 97.07 %\n",
      "Standard Deviation: 2.19 %\n",
      "==================================================================================================== \n",
      "\n",
      "SVC(kernel='poly', random_state=0)\n",
      "Accuracy: 95.59 %\n",
      "Standard Deviation: 2.87 %\n",
      "==================================================================================================== \n",
      "\n",
      "SVC(random_state=0)\n",
      "Accuracy: 96.53 %\n",
      "Standard Deviation: 1.91 %\n",
      "==================================================================================================== \n",
      "\n",
      "SVC(kernel='sigmoid', random_state=0)\n",
      "Accuracy: 96.52 %\n",
      "Standard Deviation: 2.09 %\n",
      "==================================================================================================== \n",
      "\n",
      "GaussianNB()\n",
      "Accuracy: 96.16 %\n",
      "Standard Deviation: 1.91 %\n",
      "==================================================================================================== \n",
      "\n",
      "DecisionTreeClassifier(random_state=0)\n",
      "Accuracy: 93.59 %\n",
      "Standard Deviation: 2.21 %\n",
      "==================================================================================================== \n",
      "\n",
      "RandomForestClassifier(random_state=0)\n",
      "Accuracy: 96.52 %\n",
      "Standard Deviation: 2.39 %\n",
      "==================================================================================================== \n",
      "\n"
     ]
    }
   ],
   "source": [
    "from sklearn.model_selection import cross_val_score\n",
    "classifiers = [log_reg, knn, linear_svc, poly_svc, rbf_svc, sigmoid_svc, nb, dt, rf]\n",
    "\n",
    "for classifier in classifiers:\n",
    "    accuracies = cross_val_score(estimator = classifier, X = X_train, y = y_train, cv = 10)\n",
    "    print(classifier)\n",
    "    print(\"Accuracy: {:.2f} %\".format(accuracies.mean()*100))\n",
    "    print(\"Standard Deviation: {:.2f} %\".format(accuracies.std()*100))\n",
    "    print(\"=\"*100, \"\\n\")"
   ]
  },
  {
   "cell_type": "code",
   "execution_count": 9,
   "metadata": {},
   "outputs": [
    {
     "name": "stdout",
     "output_type": "stream",
     "text": [
      "LogisticRegression(random_state=0)\n",
      "Accuracy: 96.70 %\n",
      "Standard Deviation: 1.97 %\n",
      "==================================================================================================== \n",
      "\n",
      "KNeighborsClassifier()\n",
      "Accuracy: 96.70 %\n",
      "Standard Deviation: 1.79 %\n",
      "==================================================================================================== \n",
      "\n",
      "SVC(kernel='linear', random_state=0)\n",
      "Accuracy: 97.07 %\n",
      "Standard Deviation: 2.19 %\n",
      "==================================================================================================== \n",
      "\n",
      "SVC(kernel='poly', random_state=0)\n",
      "Accuracy: 95.59 %\n",
      "Standard Deviation: 2.87 %\n",
      "==================================================================================================== \n",
      "\n",
      "SVC(random_state=0)\n",
      "Accuracy: 96.53 %\n",
      "Standard Deviation: 1.91 %\n",
      "==================================================================================================== \n",
      "\n",
      "SVC(kernel='sigmoid', random_state=0)\n",
      "Accuracy: 96.52 %\n",
      "Standard Deviation: 2.09 %\n",
      "==================================================================================================== \n",
      "\n",
      "GaussianNB()\n",
      "Accuracy: 96.16 %\n",
      "Standard Deviation: 1.91 %\n",
      "==================================================================================================== \n",
      "\n",
      "DecisionTreeClassifier(random_state=0)\n",
      "Accuracy: 93.59 %\n",
      "Standard Deviation: 2.21 %\n",
      "==================================================================================================== \n",
      "\n",
      "RandomForestClassifier(random_state=0)\n",
      "Accuracy: 96.52 %\n",
      "Standard Deviation: 2.39 %\n",
      "==================================================================================================== \n",
      "\n",
      "====================================================================================================\n",
      "\n",
      "The Best Model is:  RandomForestClassifier(random_state=0)\n",
      "Having Accuracy Score:  97.07070707070707\n",
      "With Standard Deviation:  2.1943977876398093\n"
     ]
    }
   ],
   "source": [
    "from sklearn.model_selection import cross_val_score\n",
    "best_acc_score = 0\n",
    "best_std = 0\n",
    "for classifier in classifiers:\n",
    "    accuracies = cross_val_score(estimator = classifier, X = X_train, y = y_train, cv = 10)\n",
    "    new_acc_score = accuracies.mean()*100\n",
    "    new_std = accuracies.std()*100\n",
    "    print(classifier)\n",
    "    print(\"Accuracy: {:.2f} %\".format(new_acc_score))\n",
    "    print(\"Standard Deviation: {:.2f} %\".format(new_std))\n",
    "    print(\"=\"*100, \"\\n\")\n",
    "    \n",
    "    if new_acc_score > best_acc_score:\n",
    "        best_model = classifier\n",
    "        best_acc_score = new_acc_score\n",
    "        best_std = new_std\n",
    "\n",
    "print(\"==\"*50)\n",
    "print(\"\\nThe Best Model is: \", classifier)\n",
    "print(\"Having Accuracy Score: \",best_acc_score)\n",
    "print(\"With Standard Deviation: \", best_std)"
   ]
  }
 ],
 "metadata": {
  "kernelspec": {
   "display_name": "Python 3",
   "language": "python",
   "name": "python3"
  },
  "language_info": {
   "codemirror_mode": {
    "name": "ipython",
    "version": 3
   },
   "file_extension": ".py",
   "mimetype": "text/x-python",
   "name": "python",
   "nbconvert_exporter": "python",
   "pygments_lexer": "ipython3",
   "version": "3.7.7"
  }
 },
 "nbformat": 4,
 "nbformat_minor": 4
}
