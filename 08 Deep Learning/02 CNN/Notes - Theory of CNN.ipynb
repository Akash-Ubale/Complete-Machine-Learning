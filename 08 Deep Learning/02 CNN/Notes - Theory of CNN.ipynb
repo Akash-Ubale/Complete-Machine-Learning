{
 "cells": [
  {
   "cell_type": "markdown",
   "metadata": {},
   "source": [
    "# Notes - Theory of CNN"
   ]
  },
  {
   "cell_type": "markdown",
   "metadata": {},
   "source": [
    "# Convolution\n",
    "\n",
    "Convolutin is basically a combined Integration of two functions.\n",
    "\n",
    "## $$ (f*g)(t)  = \\int_{-\\infty}^{+\\infty} f(\\gamma)~ g(t-\\gamma)~ d\\gamma $$\n"
   ]
  },
  {
   "cell_type": "markdown",
   "metadata": {},
   "source": [
    "To Identify the Image we look at the specific features and we get rid of the unimportant info.\n",
    "<img src='convolution 01.png' width=600>"
   ]
  },
  {
   "cell_type": "markdown",
   "metadata": {},
   "source": [
    "We basically look for multiple features using multiple Filters or Kernels.\n",
    "<img src='convolution 02.png' width=650>"
   ]
  },
  {
   "cell_type": "markdown",
   "metadata": {},
   "source": [
    "The Different Exaples of applying the Feature detectors:\n",
    "<img src='convolution 03.png' width=500>\n",
    "<img src='convolution 04.png' width=500>\n",
    "<img src='convolution 05.png' width=500>\n",
    "<img src='convolution 06.png' width=500>"
   ]
  },
  {
   "cell_type": "markdown",
   "metadata": {},
   "source": [
    "ReLU Layer breaks the Linearity in the Images."
   ]
  },
  {
   "cell_type": "markdown",
   "metadata": {},
   "source": [
    "# 2. Max Pooling\n",
    "\n",
    "It gives the property of Spacial Invariance to the Model.\n",
    "\n",
    "<img src='max pooling.png' width=500>"
   ]
  },
  {
   "cell_type": "markdown",
   "metadata": {},
   "source": [
    "We are Removing the info which is not a feature. Hence we are reducing the size.\n",
    "\n",
    "We are also preventing overfitting.\n",
    "\n",
    "<img src='max pooling 01.png' width=550>"
   ]
  },
  {
   "cell_type": "markdown",
   "metadata": {},
   "source": [
    "# 3. Flattening\n",
    "\n",
    "<img src='max pooling 02.png' width=650>"
   ]
  },
  {
   "cell_type": "markdown",
   "metadata": {},
   "source": [
    "# 4. Full Connection\n",
    "\n",
    "<img src='full connection 01.png' width=600>\n",
    "<img src='full connection 02.png' width=600>"
   ]
  },
  {
   "cell_type": "markdown",
   "metadata": {},
   "source": [
    "# Summary\n",
    "\n",
    "Along with the weights the feature Detectors also gets updated to find out the most important features.\n",
    "\n",
    "<img src='summary.png'>"
   ]
  },
  {
   "cell_type": "markdown",
   "metadata": {},
   "source": [
    "# Softmax Function\n",
    "\n",
    "## $$ f_i(z) = \\frac{e^{zj}}{\\sum_k e^{zk}}$$\n",
    "\n",
    "Basically softmax function makes the values between 0 to 1, and also makes sure that they add upto 1.\n",
    "\n",
    "Softmax function goes hand in hand with Cross-Entropy Function."
   ]
  },
  {
   "cell_type": "markdown",
   "metadata": {},
   "source": [
    "# Cross-Entropy Function\n",
    "\n",
    "# $$ L_i = -log\\left(\\frac{e^{f_{yi}}}{\\sum_j e^{f_j}} \\right) $$\n",
    "\n",
    "## $$ H(p,q) = -\\sum_x p(x)~ log~ q(x)$$\n",
    "\n",
    "* A Cross-Entropy Function is the Loss function used in CNN. which we have to minimize for maximum accuracy.\n",
    "* Cross Entropy is better for classification and for Regression we use RMSE."
   ]
  },
  {
   "cell_type": "code",
   "execution_count": null,
   "metadata": {},
   "outputs": [],
   "source": []
  }
 ],
 "metadata": {
  "kernelspec": {
   "display_name": "Python 3",
   "language": "python",
   "name": "python3"
  },
  "language_info": {
   "codemirror_mode": {
    "name": "ipython",
    "version": 3
   },
   "file_extension": ".py",
   "mimetype": "text/x-python",
   "name": "python",
   "nbconvert_exporter": "python",
   "pygments_lexer": "ipython3",
   "version": "3.7.7"
  }
 },
 "nbformat": 4,
 "nbformat_minor": 4
}
