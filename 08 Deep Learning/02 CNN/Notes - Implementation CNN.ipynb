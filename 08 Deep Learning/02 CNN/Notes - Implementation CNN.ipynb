{
 "cells": [
  {
   "cell_type": "markdown",
   "metadata": {},
   "source": [
    "# Notes - Implementation CNN"
   ]
  },
  {
   "cell_type": "code",
   "execution_count": 1,
   "metadata": {},
   "outputs": [
    {
     "data": {
      "text/plain": [
       "'2.3.1'"
      ]
     },
     "execution_count": 1,
     "metadata": {},
     "output_type": "execute_result"
    }
   ],
   "source": [
    "import tensorflow as tf\n",
    "from keras.preprocessing.image import ImageDataGenerator\n",
    "tf.__version__"
   ]
  },
  {
   "cell_type": "markdown",
   "metadata": {},
   "source": [
    "## Part 1 - Data Preprocessing\n",
    "### Preprocessing the Training set\n",
    "\n",
    "* We will apply some Transformations on the Images in the Training set only, thats because to avoid the Overfitting.\n",
    "* Some Geometrical transformations in the Images. It's called Image Augmentation. so that the CNN model Doesn't get Overfitted onto our Training set."
   ]
  },
  {
   "cell_type": "code",
   "execution_count": 2,
   "metadata": {},
   "outputs": [
    {
     "name": "stdout",
     "output_type": "stream",
     "text": [
      "Found 8000 images belonging to 2 classes.\n"
     ]
    }
   ],
   "source": [
    "# rescale = 1./255 - As we kno each pixel has values between 0 to 255, Hence we are applying Feature scaling on each Pixel\n",
    "# by dividing it by 255 to make sure that the resultatnt value is between 0 to 255.\n",
    "# Rest are the Geometrical transformations\n",
    "train_datagen = ImageDataGenerator(rescale = 1./255,  \n",
    "                                   shear_range = 0.2,\n",
    "                                   zoom_range = 0.2,\n",
    "                                   horizontal_flip = True)\n",
    "\n",
    "# Now we need to connect it to our training dataset\n",
    "training_set = train_datagen.flow_from_directory('dataset/training_set',\n",
    "                                                 target_size = (64, 64),  # resizing the Images for faster training\n",
    "                                                 batch_size = 32,         # no of images in each batch.\n",
    "                                                 class_mode = 'binary')   # As we have a binary outcome we will choose 'binary'"
   ]
  },
  {
   "cell_type": "markdown",
   "metadata": {},
   "source": [
    "### Preprocessing the Test set"
   ]
  },
  {
   "cell_type": "code",
   "execution_count": 3,
   "metadata": {},
   "outputs": [
    {
     "name": "stdout",
     "output_type": "stream",
     "text": [
      "Found 2000 images belonging to 2 classes.\n"
     ]
    }
   ],
   "source": [
    "# Now We will take the test dataset and we will apply only feature scaling and not the rest transformations.\n",
    "test_datagen = ImageDataGenerator(rescale = 1./255)\n",
    "\n",
    "# Now let's connect this dtagenerator Object to our test data.\n",
    "test_set = test_datagen.flow_from_directory('dataset/test_set',\n",
    "                                            target_size = (64, 64),\n",
    "                                            batch_size = 32,\n",
    "                                            class_mode = 'binary')"
   ]
  },
  {
   "cell_type": "markdown",
   "metadata": {},
   "source": [
    "## Part 2 - Building the CNN"
   ]
  },
  {
   "cell_type": "code",
   "execution_count": 4,
   "metadata": {},
   "outputs": [],
   "source": [
    "# Initialising the CNN\n",
    "cnn = tf.keras.models.Sequential()"
   ]
  },
  {
   "cell_type": "markdown",
   "metadata": {},
   "source": [
    "### Step 1 - Convolution"
   ]
  },
  {
   "cell_type": "code",
   "execution_count": 5,
   "metadata": {},
   "outputs": [],
   "source": [
    "cnn.add(tf.keras.layers.Conv2D(filters=32, kernel_size=3, activation='relu', input_shape=[64, 64, 3]))"
   ]
  },
  {
   "cell_type": "markdown",
   "metadata": {},
   "source": [
    "### Step 2 - Pooling\n",
    "* pool_size - Size of the overlapping matrix\n",
    "* strides - Shifts\n",
    "<img src='max pooling 03.png' width=500>"
   ]
  },
  {
   "cell_type": "code",
   "execution_count": 6,
   "metadata": {},
   "outputs": [],
   "source": [
    "cnn.add(tf.keras.layers.MaxPool2D(pool_size=2, strides=2))"
   ]
  },
  {
   "cell_type": "markdown",
   "metadata": {},
   "source": [
    "### Adding a second convolutional layer"
   ]
  },
  {
   "cell_type": "code",
   "execution_count": 7,
   "metadata": {},
   "outputs": [],
   "source": [
    "cnn.add(tf.keras.layers.Conv2D(filters=32, kernel_size=3, activation='relu'))\n",
    "cnn.add(tf.keras.layers.MaxPool2D(pool_size=2, strides=2))"
   ]
  },
  {
   "cell_type": "markdown",
   "metadata": {},
   "source": [
    "### Step 3 - Flattening"
   ]
  },
  {
   "cell_type": "code",
   "execution_count": 8,
   "metadata": {},
   "outputs": [],
   "source": [
    "cnn.add(tf.keras.layers.Flatten())"
   ]
  },
  {
   "cell_type": "markdown",
   "metadata": {},
   "source": [
    "### Step 4 - Full Connection"
   ]
  },
  {
   "cell_type": "code",
   "execution_count": 9,
   "metadata": {},
   "outputs": [],
   "source": [
    "cnn.add(tf.keras.layers.Dense(units=128, activation='relu'))"
   ]
  },
  {
   "cell_type": "markdown",
   "metadata": {},
   "source": [
    "### Step 5 - Output Layer"
   ]
  },
  {
   "cell_type": "code",
   "execution_count": 10,
   "metadata": {},
   "outputs": [],
   "source": [
    "cnn.add(tf.keras.layers.Dense(units=1, activation='sigmoid'))"
   ]
  },
  {
   "cell_type": "markdown",
   "metadata": {},
   "source": [
    "## Part 3 - Training the CNN\n",
    "### Compiling the CNN"
   ]
  },
  {
   "cell_type": "code",
   "execution_count": 11,
   "metadata": {},
   "outputs": [],
   "source": [
    "cnn.compile(optimizer = 'adam', loss = 'binary_crossentropy', metrics = ['accuracy'])"
   ]
  },
  {
   "cell_type": "markdown",
   "metadata": {},
   "source": [
    "### Training the CNN on the Training set and evaluating it on the Test set"
   ]
  },
  {
   "cell_type": "code",
   "execution_count": 12,
   "metadata": {},
   "outputs": [
    {
     "name": "stdout",
     "output_type": "stream",
     "text": [
      "Epoch 1/25\n",
      "250/250 [==============================] - 123s 492ms/step - loss: 0.6881 - accuracy: 0.5419 - val_loss: 0.6921 - val_accuracy: 0.5635\n",
      "Epoch 2/25\n",
      "250/250 [==============================] - 57s 228ms/step - loss: 0.6307 - accuracy: 0.6496 - val_loss: 0.5846 - val_accuracy: 0.6930\n",
      "Epoch 3/25\n",
      "250/250 [==============================] - 55s 220ms/step - loss: 0.5738 - accuracy: 0.7060 - val_loss: 0.5386 - val_accuracy: 0.7330\n",
      "Epoch 4/25\n",
      "250/250 [==============================] - 60s 238ms/step - loss: 0.5369 - accuracy: 0.7311 - val_loss: 0.5160 - val_accuracy: 0.7505\n",
      "Epoch 5/25\n",
      "250/250 [==============================] - 58s 234ms/step - loss: 0.5084 - accuracy: 0.7560 - val_loss: 0.4875 - val_accuracy: 0.7605\n",
      "Epoch 6/25\n",
      "250/250 [==============================] - 64s 255ms/step - loss: 0.4845 - accuracy: 0.7650 - val_loss: 0.4846 - val_accuracy: 0.7695\n",
      "Epoch 7/25\n",
      "250/250 [==============================] - 66s 265ms/step - loss: 0.4691 - accuracy: 0.7768 - val_loss: 0.4578 - val_accuracy: 0.7885\n",
      "Epoch 8/25\n",
      "250/250 [==============================] - 59s 234ms/step - loss: 0.4477 - accuracy: 0.7905 - val_loss: 0.4559 - val_accuracy: 0.7895\n",
      "Epoch 9/25\n",
      "250/250 [==============================] - 59s 235ms/step - loss: 0.4394 - accuracy: 0.7965 - val_loss: 0.4583 - val_accuracy: 0.7870\n",
      "Epoch 10/25\n",
      "250/250 [==============================] - 62s 247ms/step - loss: 0.4275 - accuracy: 0.8008 - val_loss: 0.4940 - val_accuracy: 0.7705\n",
      "Epoch 11/25\n",
      "250/250 [==============================] - 59s 237ms/step - loss: 0.4194 - accuracy: 0.8050 - val_loss: 0.4409 - val_accuracy: 0.7975\n",
      "Epoch 12/25\n",
      "250/250 [==============================] - 58s 232ms/step - loss: 0.4025 - accuracy: 0.8101 - val_loss: 0.4342 - val_accuracy: 0.8095\n",
      "Epoch 13/25\n",
      "250/250 [==============================] - 54s 215ms/step - loss: 0.3923 - accuracy: 0.8231 - val_loss: 0.4484 - val_accuracy: 0.7920\n",
      "Epoch 14/25\n",
      "250/250 [==============================] - 53s 213ms/step - loss: 0.3868 - accuracy: 0.8232 - val_loss: 0.4460 - val_accuracy: 0.7975\n",
      "Epoch 15/25\n",
      "250/250 [==============================] - 53s 212ms/step - loss: 0.3731 - accuracy: 0.8322 - val_loss: 0.4658 - val_accuracy: 0.7930\n",
      "Epoch 16/25\n",
      "250/250 [==============================] - 54s 215ms/step - loss: 0.3578 - accuracy: 0.8369 - val_loss: 0.4431 - val_accuracy: 0.7950\n",
      "Epoch 17/25\n",
      "250/250 [==============================] - 58s 233ms/step - loss: 0.3508 - accuracy: 0.8438 - val_loss: 0.4272 - val_accuracy: 0.8165\n",
      "Epoch 18/25\n",
      "250/250 [==============================] - 59s 234ms/step - loss: 0.3471 - accuracy: 0.8469 - val_loss: 0.4304 - val_accuracy: 0.8160\n",
      "Epoch 19/25\n",
      "250/250 [==============================] - 61s 245ms/step - loss: 0.3338 - accuracy: 0.8544 - val_loss: 0.4480 - val_accuracy: 0.7940\n",
      "Epoch 20/25\n",
      "250/250 [==============================] - 60s 242ms/step - loss: 0.3169 - accuracy: 0.8601 - val_loss: 0.4541 - val_accuracy: 0.8170\n",
      "Epoch 21/25\n",
      "250/250 [==============================] - 59s 234ms/step - loss: 0.3123 - accuracy: 0.8627 - val_loss: 0.4475 - val_accuracy: 0.8070\n",
      "Epoch 22/25\n",
      "250/250 [==============================] - 3781s 15s/step - loss: 0.2993 - accuracy: 0.8696 - val_loss: 0.4392 - val_accuracy: 0.8130\n",
      "Epoch 23/25\n",
      "250/250 [==============================] - 72s 290ms/step - loss: 0.2901 - accuracy: 0.8716 - val_loss: 0.5013 - val_accuracy: 0.7975\n",
      "Epoch 24/25\n",
      "250/250 [==============================] - 55s 220ms/step - loss: 0.2793 - accuracy: 0.8799 - val_loss: 0.4715 - val_accuracy: 0.7935\n",
      "Epoch 25/25\n",
      "250/250 [==============================] - 55s 221ms/step - loss: 0.2758 - accuracy: 0.8817 - val_loss: 0.5033 - val_accuracy: 0.7910\n"
     ]
    },
    {
     "data": {
      "text/plain": [
       "<tensorflow.python.keras.callbacks.History at 0x1bbd004db48>"
      ]
     },
     "execution_count": 12,
     "metadata": {},
     "output_type": "execute_result"
    }
   ],
   "source": [
    "cnn.fit(x = training_set, validation_data = test_set, epochs = 25)"
   ]
  },
  {
   "cell_type": "markdown",
   "metadata": {},
   "source": [
    "## Part 4 - Making a single prediction"
   ]
  },
  {
   "cell_type": "code",
   "execution_count": 22,
   "metadata": {},
   "outputs": [
    {
     "name": "stdout",
     "output_type": "stream",
     "text": [
      "dog\n"
     ]
    }
   ],
   "source": [
    "import numpy as np\n",
    "from keras.preprocessing import image\n",
    "\n",
    "# Loading the Image and Resizing it as we have trained the model on 64 X 64 Images.  \n",
    "test_image = image.load_img('dataset/single_prediction/cat_or_dog_2.jpg', target_size = (64, 64))\n",
    "\n",
    "# As the Predict method axpects the data to be in an Array formt converting Img to an Array.\n",
    "test_image = image.img_to_array(test_image)\n",
    "\n",
    "# While training the Model we gave the images in the batch of 32 imges. that means the firts dimension of each image is the\n",
    "# batch no. hence while predicting the result for this new single Image we need to add and specify the batch size.\n",
    "# Hence adding a fake dimensuion to the image.\n",
    "test_image = np.expand_dims(test_image, axis = 0) \n",
    "\n",
    "# predicting the result for a single Image.\n",
    "result = cnn.predict(test_image)\n",
    "\n",
    "\n",
    "training_set.class_indices\n",
    "if result[0][0] == 1:\n",
    "    prediction = 'dog'\n",
    "else:\n",
    "    prediction = 'cat'\n",
    "    \n",
    "print(prediction)"
   ]
  },
  {
   "cell_type": "code",
   "execution_count": null,
   "metadata": {},
   "outputs": [],
   "source": []
  }
 ],
 "metadata": {
  "kernelspec": {
   "display_name": "Python 3",
   "language": "python",
   "name": "python3"
  },
  "language_info": {
   "codemirror_mode": {
    "name": "ipython",
    "version": 3
   },
   "file_extension": ".py",
   "mimetype": "text/x-python",
   "name": "python",
   "nbconvert_exporter": "python",
   "pygments_lexer": "ipython3",
   "version": "3.7.7"
  }
 },
 "nbformat": 4,
 "nbformat_minor": 4
}
