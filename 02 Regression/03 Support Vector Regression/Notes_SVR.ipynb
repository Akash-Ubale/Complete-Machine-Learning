{
 "cells": [
  {
   "cell_type": "markdown",
   "metadata": {},
   "source": [
    "# Notes_SVR\n",
    "\n",
    "### How it's work?\n",
    "\n",
    "- In the SVR unlike Linear Regression you will have a tube, with a width $\\epsilon$.\n",
    "\n",
    "- The tube is called as the $\\epsilon$-Insensitive Tube, which means any point inside the tube is acceptable. \n",
    "\n",
    "- $\\epsilon$ is the buffer.\n",
    "\n",
    "- The distance between the points(outside tube) and the tube is **Residual** here.\n",
    "\n",
    "- And we want to reduce the sum of Squared Residuals.\n",
    "\n",
    "<img src = \"SVR_Intuition.PNG\">"
   ]
  },
  {
   "cell_type": "markdown",
   "metadata": {},
   "source": [
    "### Why it's called support vector ?\n",
    "- Each point can be represented as a vector and the Structure of the Tube is defined by these vectors. \n",
    "- At a glacse it looks like the Vectors are suppoting this structure hence Support vector.\n",
    "\n",
    "\n",
    "### What re kernels?\n",
    "- SVM algorithms use a set of mathematical functions that are defined as the kernel. \n",
    "- The function of kernel is to take data as input and transform it into the required form. Different SVM algorithms use different types of kernel functions. These functions can be different types. For example linear, nonlinear, polynomial, radial basis function (RBF), and sigmoid.\n",
    "\n",
    "### Kernel Rules\n",
    "Define kernel function as follows:\n",
    "<img src=\"kernal-rule.png\" width=200>\n",
    "\n",
    "### Kernel used by SVR.\n",
    "## $$Gaussian~kernel K(\\bar x, \\bar l^i)  = exp\\left( {- \\frac{\\|\\bar x - \\bar l^i \\|^2}{2\\sigma ^2}} \\right)$$"
   ]
  },
  {
   "cell_type": "markdown",
   "metadata": {},
   "source": [
    "Examples of kernels:\n",
    "#### 1. Polynomial kernel\n",
    "It is popular in image processing.\n",
    "$$K(X_i, X_j) = (X_i \\times X_j + 1)^d$$\n",
    "where d is the degree of the polynomial.\n",
    "\n",
    "\n",
    "#### 2. Gaussian kernel\n",
    "\n",
    "It is a general-purpose kernel; used when there is no prior knowledge about the data. Equation is:\n",
    "## $$Gaussian~kernel ~K(\\bar X, \\bar y)  = exp\\left( {- \\frac{\\|\\bar X - \\bar y \\|^2}{2\\sigma ^2}} \\right)$$\n",
    "\n",
    "where $l^i$ is the location of centroid.\n",
    "\n",
    "\n",
    "#### 3.  Gaussian radial basis function (RBF)\n",
    "It is a general-purpose kernel; used when there is no prior knowledge about the data.\n",
    "## $$K(X_i, X_j) = exp(-\\lambda \\| X_i \\times X_j\\|^2 )$$\n",
    "\n"
   ]
  },
  {
   "cell_type": "markdown",
   "metadata": {},
   "source": [
    "# Python Implementation"
   ]
  },
  {
   "cell_type": "code",
   "execution_count": 1,
   "metadata": {},
   "outputs": [],
   "source": [
    "## Importing the Dataset\n",
    "\n",
    "import pandas as pd \n",
    "dataset = pd.read_csv(\"Position_Salaries.csv\")\n",
    "# dataset.head()\n",
    "x = dataset.iloc[:, :-1].values\n",
    "y = dataset.iloc[:, -1].values"
   ]
  },
  {
   "cell_type": "markdown",
   "metadata": {},
   "source": [
    "## Feature Scaling:\n",
    "\n",
    "Here Feature scaling is required Because.\n",
    "In SVR There is **No explicite Equation** of Dependent variable WRT the Dependent Variables. \n",
    "\n",
    "$\\Rightarrow$ Hence **No Coefficients** to multiply features.\n",
    "\n",
    "$\\Rightarrow$ Hence **No Compensation** to the higher values of features.\n",
    "\n",
    "In SVR there is an **Implicite Equation** of Dependent Variable WRT Features and $\\Rightarrow$ hence **No compensating coefficients** $\\Rightarrow$ Hence we **Need Feature Scaling**."
   ]
  },
  {
   "cell_type": "markdown",
   "metadata": {},
   "source": [
    "# Python Implementation\n",
    "\n",
    "## Data preprocessing"
   ]
  },
  {
   "cell_type": "code",
   "execution_count": 2,
   "metadata": {},
   "outputs": [
    {
     "name": "stdout",
     "output_type": "stream",
     "text": [
      "Dataset:\n",
      "             Position  Level  Salary\n",
      "0   Business Analyst      1   45000\n",
      "1  Junior Consultant      2   50000\n",
      "2  Senior Consultant      3   60000\n",
      "3            Manager      4   80000\n",
      "4    Country Manager      5  110000\n"
     ]
    }
   ],
   "source": [
    "import pandas as pd\n",
    "import numpy as np\n",
    "\n",
    "data = pd.read_csv(\"Position_Salaries.csv\")\n",
    "print(\"Dataset:\\n\", data.head())"
   ]
  },
  {
   "cell_type": "code",
   "execution_count": 3,
   "metadata": {},
   "outputs": [
    {
     "name": "stdout",
     "output_type": "stream",
     "text": [
      "x:\n",
      " [[ 1]\n",
      " [ 2]\n",
      " [ 3]\n",
      " [ 4]\n",
      " [ 5]\n",
      " [ 6]\n",
      " [ 7]\n",
      " [ 8]\n",
      " [ 9]\n",
      " [10]]\n",
      "\n",
      "y:\n",
      " [  45000   50000   60000   80000  110000  150000  200000  300000  500000\n",
      " 1000000]\n"
     ]
    }
   ],
   "source": [
    "x = data.iloc[:, 1:2].values\n",
    "y = data.iloc[:, -1].values\n",
    "print(\"x:\\n\", x)\n",
    "print(\"\\ny:\\n\", y)"
   ]
  },
  {
   "cell_type": "markdown",
   "metadata": {},
   "source": [
    "## Missing values"
   ]
  },
  {
   "cell_type": "code",
   "execution_count": 4,
   "metadata": {},
   "outputs": [
    {
     "data": {
      "text/plain": [
       "Position    0\n",
       "Level       0\n",
       "Salary      0\n",
       "dtype: int64"
      ]
     },
     "execution_count": 4,
     "metadata": {},
     "output_type": "execute_result"
    }
   ],
   "source": [
    "data.isnull().sum()"
   ]
  },
  {
   "cell_type": "markdown",
   "metadata": {},
   "source": [
    "## categorical data\n",
    "the categorical dta is already been takes care of by the 'Level' column.\n",
    "\n",
    "### Now the StandardScaler class expects the data to be in 2D array form hence we need to transform y."
   ]
  },
  {
   "cell_type": "code",
   "execution_count": 6,
   "metadata": {},
   "outputs": [
    {
     "data": {
      "text/plain": [
       "array([[  45000],\n",
       "       [  50000],\n",
       "       [  60000],\n",
       "       [  80000],\n",
       "       [ 110000],\n",
       "       [ 150000],\n",
       "       [ 200000],\n",
       "       [ 300000],\n",
       "       [ 500000],\n",
       "       [1000000]], dtype=int64)"
      ]
     },
     "execution_count": 6,
     "metadata": {},
     "output_type": "execute_result"
    }
   ],
   "source": [
    "y = y.reshape(-1,1)\n",
    "y"
   ]
  },
  {
   "cell_type": "markdown",
   "metadata": {},
   "source": [
    "## Feature Scaling"
   ]
  },
  {
   "cell_type": "code",
   "execution_count": 9,
   "metadata": {},
   "outputs": [
    {
     "name": "stdout",
     "output_type": "stream",
     "text": [
      "scaled_x:\n",
      " [[-1.5666989 ]\n",
      " [-1.21854359]\n",
      " [-0.87038828]\n",
      " [-0.52223297]\n",
      " [-0.17407766]\n",
      " [ 0.17407766]\n",
      " [ 0.52223297]\n",
      " [ 0.87038828]\n",
      " [ 1.21854359]\n",
      " [ 1.5666989 ]]\n"
     ]
    }
   ],
   "source": [
    "from sklearn.preprocessing import StandardScaler\n",
    "sc_x = StandardScaler()\n",
    "scaled_x = sc_x.fit_transform(x)\n",
    "print(\"scaled_x:\\n\",scaled_x)"
   ]
  },
  {
   "cell_type": "code",
   "execution_count": 10,
   "metadata": {},
   "outputs": [
    {
     "name": "stdout",
     "output_type": "stream",
     "text": [
      "scaled_y:\n",
      " [[-0.72004253]\n",
      " [-0.70243757]\n",
      " [-0.66722767]\n",
      " [-0.59680786]\n",
      " [-0.49117815]\n",
      " [-0.35033854]\n",
      " [-0.17428902]\n",
      " [ 0.17781001]\n",
      " [ 0.88200808]\n",
      " [ 2.64250325]]\n"
     ]
    }
   ],
   "source": [
    "sc_y = StandardScaler()\n",
    "scaled_y = sc_y.fit_transform(y)\n",
    "print(\"scaled_y:\\n\",scaled_y)"
   ]
  },
  {
   "cell_type": "markdown",
   "metadata": {},
   "source": [
    "# Create and train the model."
   ]
  },
  {
   "cell_type": "code",
   "execution_count": 11,
   "metadata": {},
   "outputs": [],
   "source": [
    "from sklearn.svm import SVR\n",
    "svr = SVR(kernel='rbf')"
   ]
  },
  {
   "cell_type": "code",
   "execution_count": 13,
   "metadata": {
    "scrolled": true
   },
   "outputs": [
    {
     "name": "stderr",
     "output_type": "stream",
     "text": [
      "C:\\Users\\akash\\.conda\\envs\\General\\lib\\site-packages\\sklearn\\utils\\validation.py:72: DataConversionWarning: A column-vector y was passed when a 1d array was expected. Please change the shape of y to (n_samples, ), for example using ravel().\n",
      "  return f(**kwargs)\n"
     ]
    },
    {
     "data": {
      "text/plain": [
       "SVR()"
      ]
     },
     "execution_count": 13,
     "metadata": {},
     "output_type": "execute_result"
    }
   ],
   "source": [
    "svr.fit(scaled_x, scaled_y)"
   ]
  },
  {
   "cell_type": "markdown",
   "metadata": {},
   "source": [
    "## Predicting the salary for level 6.5\n",
    "the things we need to take care.\n",
    "1. We have traine dto SVR model on scaled data hence we need to predict on the scaled data.\n",
    "2. the prediction will give a scaled values as a result, so we have to reverse the scaling to seethe actual value."
   ]
  },
  {
   "cell_type": "code",
   "execution_count": 19,
   "metadata": {},
   "outputs": [
    {
     "name": "stdout",
     "output_type": "stream",
     "text": [
      "pred: [170370.0204065]\n"
     ]
    }
   ],
   "source": [
    "pred = sc_y.inverse_transform(svr.predict(sc_x.transform([[6.5]])))\n",
    "print(\"pred:\",pred)"
   ]
  },
  {
   "cell_type": "markdown",
   "metadata": {},
   "source": [
    "# Visualizing the SVR results"
   ]
  },
  {
   "cell_type": "code",
   "execution_count": 23,
   "metadata": {},
   "outputs": [
    {
     "data": {
      "image/png": "[encoded data removed]",
      "text/plain": [
       "<Figure size 432x288 with 1 Axes>"
      ]
     },
     "metadata": {
      "needs_background": "light"
     },
     "output_type": "display_data"
    }
   ],
   "source": [
    "from matplotlib import pyplot as plt\n",
    "plt.scatter(x, y, color='red')\n",
    "plt.plot(x, sc_y.inverse_transform(svr.predict(scaled_x)))\n",
    "plt.title(\"Salary Predictions (SVR)\")\n",
    "plt.xlabel(\"Levels\")\n",
    "plt.ylabel(\"Salary\")\n",
    "plt.show()"
   ]
  },
  {
   "cell_type": "markdown",
   "metadata": {},
   "source": [
    "## Visualising the SVR results (for higher resolution and smoother curve)"
   ]
  },
  {
   "cell_type": "code",
   "execution_count": 25,
   "metadata": {},
   "outputs": [
    {
     "data": {
      "image/png": "[encoded data removed]",
      "text/plain": [
       "<Figure size 432x288 with 1 Axes>"
      ]
     },
     "metadata": {
      "needs_background": "light"
     },
     "output_type": "display_data"
    }
   ],
   "source": [
    "x_grid = np.arange(min(x), max(x), 0.1)\n",
    "x_grid = x_grid.reshape((len(x_grid), 1))\n",
    "\n",
    "plt.scatter(x, y, color = 'red')\n",
    "plt.plot(x_grid, sc_y.inverse_transform(svr.predict(sc_x.transform(x_grid))), color = 'blue')\n",
    "plt.title('Truth or Bluff (SVR)')\n",
    "plt.xlabel('Position level')\n",
    "plt.ylabel('Salary')\n",
    "plt.show()"
   ]
  },
  {
   "cell_type": "code",
   "execution_count": null,
   "metadata": {},
   "outputs": [],
   "source": []
  }
 ],
 "metadata": {
  "kernelspec": {
   "display_name": "Python 3",
   "language": "python",
   "name": "python3"
  },
  "language_info": {
   "codemirror_mode": {
    "name": "ipython",
    "version": 3
   },
   "file_extension": ".py",
   "mimetype": "text/x-python",
   "name": "python",
   "nbconvert_exporter": "python",
   "pygments_lexer": "ipython3",
   "version": "3.7.7"
  }
 },
 "nbformat": 4,
 "nbformat_minor": 4
}
