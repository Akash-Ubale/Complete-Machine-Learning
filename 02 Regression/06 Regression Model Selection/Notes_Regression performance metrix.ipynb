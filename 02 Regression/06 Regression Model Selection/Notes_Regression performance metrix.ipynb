{
 "cells": [
  {
   "cell_type": "markdown",
   "metadata": {},
   "source": [
    "## Notes $R^2$\n",
    "\n",
    "### $R^2 = 1- \\frac{RSS}{TSS}$\n",
    "Where:\n",
    "1. RSS $\\rightarrow$ Residuals Sum of Squares\n",
    "2. TSS $\\rightarrow$ Total Sum of Squares\n",
    "\n",
    "### $ RSS = \\sum (Y_i - \\hat Y_i)^2 $\n",
    "### $ TSS = \\sum (Y_i - Y_{Average})^2 $"
   ]
  },
  {
   "cell_type": "markdown",
   "metadata": {},
   "source": [
    "### $As ~Residuals \\downarrow ~\\Rightarrow ~RSS \\downarrow ~\\Rightarrow ~\\frac{RSS}{TSS} \\downarrow ~\\Rightarrow 1- \\frac{RSS}{TSS} \\uparrow ~\\Rightarrow i.e. R^2 \\uparrow $ "
   ]
  },
  {
   "cell_type": "markdown",
   "metadata": {},
   "source": [
    "### $ -1 < R^2 <1 $ ... it should be closer to 1."
   ]
  },
  {
   "cell_type": "markdown",
   "metadata": {},
   "source": [
    "The problem with $R^2$ is in Multiple Linear Regression even if we add more no. of irrelevant features the $TSS$ will remain he same but the $RSS$ will decrease.\n",
    "\n",
    "and it will increase the $R^2$ value. which creates an illusion that the model performance is increased but in reality that's not the scenario.\n",
    "\n",
    "and this is where $Adjusted ~R^2$ comes into picture."
   ]
  },
  {
   "cell_type": "markdown",
   "metadata": {},
   "source": [
    "## Adjusted $R^2 = 1- (1- R^2) \\frac{N-1}{N-1-P}$\n",
    "\n",
    "Where\n",
    "* $N\\rightarrow$ Sample size\n",
    "* $P\\rightarrow$ No. of Regressors (i.e. Independent Variables)\n"
   ]
  },
  {
   "cell_type": "markdown",
   "metadata": {},
   "source": [
    "### $P\\uparrow ~\\Rightarrow~ (N-1-P)\\downarrow ~\\Rightarrow~ \\frac{N-1}{N-1-P}\\uparrow ~\\Rightarrow~ (1-~R^2)\\frac{N-1}{N-1-P}\\uparrow ~\\Rightarrow~ 1-(1-~R^2)\\frac{N-1}{N-1-P}\\downarrow$"
   ]
  },
  {
   "cell_type": "markdown",
   "metadata": {},
   "source": [
    "### As $independent~variables~P\\uparrow ~\\Rightarrow~ R^2 \\uparrow ~\\Rightarrow~ (1-R^2)\\downarrow ~\\Rightarrow~ (1-~R^2)\\frac{N-1}{N-1-P}\\downarrow ~\\Rightarrow~ 1-(1-~R^2)\\frac{N-1}{N-1-P}\\uparrow $"
   ]
  },
  {
   "cell_type": "markdown",
   "metadata": {},
   "source": [
    "As you can see it's like an battle. \n",
    "\n",
    "Hence the effect of adding extra independent variables gets cancelled in Adj R2 because of penalty factor. "
   ]
  },
  {
   "cell_type": "code",
   "execution_count": null,
   "metadata": {},
   "outputs": [],
   "source": []
  }
 ],
 "metadata": {
  "kernelspec": {
   "display_name": "Python 3",
   "language": "python",
   "name": "python3"
  },
  "language_info": {
   "codemirror_mode": {
    "name": "ipython",
    "version": 3
   },
   "file_extension": ".py",
   "mimetype": "text/x-python",
   "name": "python",
   "nbconvert_exporter": "python",
   "pygments_lexer": "ipython3",
   "version": "3.7.7"
  }
 },
 "nbformat": 4,
 "nbformat_minor": 4
}
