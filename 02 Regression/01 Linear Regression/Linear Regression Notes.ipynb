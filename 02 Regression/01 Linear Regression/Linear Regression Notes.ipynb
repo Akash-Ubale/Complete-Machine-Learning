{
 "cells": [
  {
   "cell_type": "markdown",
   "metadata": {},
   "source": [
    "# Simple Linear Regression\n",
    "\n",
    "In simple words Simple Linear regression is this formula:\n",
    "$$ Y = b_0 + b_1  X  $$\n",
    "* $b_0$ - Constant term/ Y-intercept/ Constant Bais term.\n",
    "* $b_1$ - Slope of line/ Coefficient of X/ Associated Weight of X, and determines how a unit change in X afects Y.\n",
    "* $Y$ - Dependent variable/ target Variable? Label\n",
    "* $X$ - Independent variable/ Feature**\n",
    "\n",
    "The image below explains this formula.\n",
    "\n",
    "<img src=\"Simple Linear Regression Demo.png\">"
   ]
  },
  {
   "cell_type": "markdown",
   "metadata": {},
   "source": [
    "Here, \n",
    "\n",
    "$b_0$ = 30K, that's the salary a fresher(i.e. 0 yrs experience) will get.\n",
    "\n",
    "$b_1$ = 10K, for 1 year of experience the person will get extra 10k in salary.\n"
   ]
  },
  {
   "cell_type": "markdown",
   "metadata": {},
   "source": [
    "### How we find the best fitting line.\n",
    "1. The Linear Regression Algorithm draws all the possible lines on our data.\n",
    "2. Then it finds $Sum~ of~ Squares=\\sum{Y-\\hat Y}$ and records in a temporary storage.\n",
    "* $Y$ - Actual data point\n",
    "* $\\hat Y$ - Projection of $Y$ on the line.\n",
    "3. Then it finds the line which has the least sum of squares. and that's our best fit line."
   ]
  },
  {
   "cell_type": "markdown",
   "metadata": {},
   "source": [
    "Let's start with Data Preprocessing.\n",
    "\n",
    "_I'm using this Data Preprocessing template from my Data Preprocessing folder._\n",
    "\n",
    "# 1. Importing the required Libraries"
   ]
  },
  {
   "cell_type": "code",
   "execution_count": 3,
   "metadata": {},
   "outputs": [],
   "source": [
    "import pandas as pd\n",
    "import numpy as np\n",
    "import matplotlib.pyplot as plt"
   ]
  },
  {
   "cell_type": "markdown",
   "metadata": {},
   "source": [
    "# 2. Importing the data"
   ]
  },
  {
   "cell_type": "code",
   "execution_count": 2,
   "metadata": {},
   "outputs": [
    {
     "data": {
      "text/html": [
       "<div>\n",
       "<style scoped>\n",
       "    .dataframe tbody tr th:only-of-type {\n",
       "        vertical-align: middle;\n",
       "    }\n",
       "\n",
       "    .dataframe tbody tr th {\n",
       "        vertical-align: top;\n",
       "    }\n",
       "\n",
       "    .dataframe thead th {\n",
       "        text-align: right;\n",
       "    }\n",
       "</style>\n",
       "<table border=\"1\" class=\"dataframe\">\n",
       "  <thead>\n",
       "    <tr style=\"text-align: right;\">\n",
       "      <th></th>\n",
       "      <th>YearsExperience</th>\n",
       "      <th>Salary</th>\n",
       "    </tr>\n",
       "  </thead>\n",
       "  <tbody>\n",
       "    <tr>\n",
       "      <th>0</th>\n",
       "      <td>1.1</td>\n",
       "      <td>39343.0</td>\n",
       "    </tr>\n",
       "    <tr>\n",
       "      <th>1</th>\n",
       "      <td>1.3</td>\n",
       "      <td>46205.0</td>\n",
       "    </tr>\n",
       "    <tr>\n",
       "      <th>2</th>\n",
       "      <td>1.5</td>\n",
       "      <td>37731.0</td>\n",
       "    </tr>\n",
       "    <tr>\n",
       "      <th>3</th>\n",
       "      <td>2.0</td>\n",
       "      <td>43525.0</td>\n",
       "    </tr>\n",
       "    <tr>\n",
       "      <th>4</th>\n",
       "      <td>2.2</td>\n",
       "      <td>39891.0</td>\n",
       "    </tr>\n",
       "  </tbody>\n",
       "</table>\n",
       "</div>"
      ],
      "text/plain": [
       "   YearsExperience   Salary\n",
       "0              1.1  39343.0\n",
       "1              1.3  46205.0\n",
       "2              1.5  37731.0\n",
       "3              2.0  43525.0\n",
       "4              2.2  39891.0"
      ]
     },
     "execution_count": 2,
     "metadata": {},
     "output_type": "execute_result"
    }
   ],
   "source": [
    "data = pd.read_csv(\"Salary_Data.csv\")\n",
    "data.head() "
   ]
  },
  {
   "cell_type": "markdown",
   "metadata": {},
   "source": [
    "This data is a company's Salary data. \n",
    "\n",
    "we will try to find the relation between the Years of experience and Salary."
   ]
  },
  {
   "cell_type": "markdown",
   "metadata": {},
   "source": [
    "# 3. Separating Features and Targets/ Labels"
   ]
  },
  {
   "cell_type": "code",
   "execution_count": 14,
   "metadata": {},
   "outputs": [],
   "source": [
    "X = data.iloc[:, 0].values\n",
    "y = data.iloc[:, 1].values"
   ]
  },
  {
   "cell_type": "markdown",
   "metadata": {},
   "source": [
    "# 4. Handling Missing values"
   ]
  },
  {
   "cell_type": "code",
   "execution_count": 15,
   "metadata": {},
   "outputs": [
    {
     "data": {
      "text/plain": [
       "YearsExperience    0\n",
       "Salary             0\n",
       "dtype: int64"
      ]
     },
     "execution_count": 15,
     "metadata": {},
     "output_type": "execute_result"
    }
   ],
   "source": [
    "data.isnull().sum()"
   ]
  },
  {
   "cell_type": "markdown",
   "metadata": {},
   "source": [
    "# 😍\n",
    "Congrats No null values !! "
   ]
  },
  {
   "cell_type": "markdown",
   "metadata": {},
   "source": [
    "# 5. Splitting the data into train and test data"
   ]
  },
  {
   "cell_type": "code",
   "execution_count": 16,
   "metadata": {},
   "outputs": [],
   "source": [
    "from sklearn.model_selection import train_test_split\n",
    "X_train, X_test, y_train, y_test = train_test_split(X, y, test_size=0.2, random_state=0)"
   ]
  },
  {
   "cell_type": "markdown",
   "metadata": {},
   "source": [
    "#### 6. As the feature values are already in range there is no need for feature scaling."
   ]
  },
  {
   "cell_type": "markdown",
   "metadata": {},
   "source": [
    "## Model Building - Linear Regression"
   ]
  },
  {
   "cell_type": "code",
   "execution_count": 18,
   "metadata": {},
   "outputs": [],
   "source": [
    "from sklearn.linear_model import LinearRegression\n",
    "regressor = LinearRegression()"
   ]
  },
  {
   "cell_type": "markdown",
   "metadata": {},
   "source": [
    "## Training the model"
   ]
  },
  {
   "cell_type": "code",
   "execution_count": 23,
   "metadata": {},
   "outputs": [
    {
     "data": {
      "text/plain": [
       "LinearRegression()"
      ]
     },
     "execution_count": 23,
     "metadata": {},
     "output_type": "execute_result"
    }
   ],
   "source": [
    "# the Linear regression model need the X_train and y_train to be in 2D\n",
    "# Hence performing these lines.\n",
    "X_train2 = X_train.reshape(-1, 1)   \n",
    "y_train2 = y_train.reshape(-1, 1)\n",
    "\n",
    "regressor.fit(X_train2, y_train2)"
   ]
  },
  {
   "cell_type": "markdown",
   "metadata": {},
   "source": [
    "## Predicting the test set results"
   ]
  },
  {
   "cell_type": "code",
   "execution_count": 36,
   "metadata": {},
   "outputs": [],
   "source": [
    "X_test2 = X_test.reshape(-1, 1)\n",
    "y_pred = regressor.predict(X_test2)"
   ]
  },
  {
   "cell_type": "code",
   "execution_count": 37,
   "metadata": {},
   "outputs": [
    {
     "data": {
      "text/plain": [
       "array([[ 40748.96184072],\n",
       "       [122699.62295594],\n",
       "       [ 64961.65717022],\n",
       "       [ 63099.14214487],\n",
       "       [115249.56285456],\n",
       "       [107799.50275317]])"
      ]
     },
     "execution_count": 37,
     "metadata": {},
     "output_type": "execute_result"
    }
   ],
   "source": [
    "y_pred"
   ]
  },
  {
   "cell_type": "markdown",
   "metadata": {},
   "source": [
    "## Visualizing the Training set results"
   ]
  },
  {
   "cell_type": "code",
   "execution_count": 54,
   "metadata": {},
   "outputs": [
    {
     "data": {
      "image/png": "[encoded data removed]",
      "text/plain": [
       "<Figure size 432x288 with 1 Axes>"
      ]
     },
     "metadata": {
      "needs_background": "light"
     },
     "output_type": "display_data"
    }
   ],
   "source": [
    "# Visualizing for the Training data\n",
    "plt.scatter(X_train2, y_train2, color='red')\n",
    "plt.plot(X_train2, regressor.predict(X_train2))\n",
    "plt.title(\"Salary vs Experience(Training Set)\")\n",
    "plt.xlabel(\"Years of Experience\")\n",
    "plt.ylabel(\"Salary\")\n",
    "plt.show()"
   ]
  },
  {
   "cell_type": "code",
   "execution_count": 55,
   "metadata": {},
   "outputs": [
    {
     "data": {
      "image/png": "[encoded data removed]",
      "text/plain": [
       "<Figure size 432x288 with 1 Axes>"
      ]
     },
     "metadata": {
      "needs_background": "light"
     },
     "output_type": "display_data"
    }
   ],
   "source": [
    "plt.scatter(X_test2, y_test2, color='red')\n",
    "plt.plot(X_test2, regressor.predict(X_test2))\n",
    "plt.title(\"Salary vs Experience (Testing Set)\")\n",
    "plt.xlabel(\"Years of Experience\")\n",
    "plt.ylabel(\"Salary\")\n",
    "plt.show()"
   ]
  },
  {
   "cell_type": "code",
   "execution_count": null,
   "metadata": {},
   "outputs": [],
   "source": []
  },
  {
   "cell_type": "markdown",
   "metadata": {},
   "source": [
    "# Multiple Linear Regression\n",
    "\n",
    "We will be using the data of 50 startups and we need to create a model to show case the the relationship between each feature and the Profit column."
   ]
  },
  {
   "cell_type": "markdown",
   "metadata": {},
   "source": [
    "Since in this data we have a categorical feature let's discuss about the Dummy variable trap.\n",
    "\n",
    "# Multi Colinearity\n",
    "## Dummy Variable Trap:\n",
    "Dummy variable mean Duplicate Variables.\n",
    "\n",
    "For Example:\n",
    "$D_1 ~and ~D_2~ are~ two ~ Dummy ~ variables. Then~D_2 = 1-D_1$\n",
    "$$ Y = b_0 + b_1 X_1 + b_2 X_2 + \\cdots + b_4 D_1 + b_5 D_2 $$\n",
    "\n",
    "The phenomena where one (or more) independent variable predicts another independent variable is called Multi Colinearity.\n",
    "\n",
    "As a result the model cannot differentiate between the effects of D_1 from the effects of D_2.\n",
    "\n",
    "And hence the model performs inefficiently."
   ]
  },
  {
   "cell_type": "markdown",
   "metadata": {},
   "source": [
    "# Building A Model \n",
    "### 5 Methods:\n",
    "1. All in\n",
    "2. Backward Elimination\n",
    "3. Forward Selection\n",
    "4. Bi-directional Elimination\n",
    "5. Score Comparison\n"
   ]
  },
  {
   "cell_type": "markdown",
   "metadata": {},
   "source": [
    "### 1. All in:\n",
    "Use it when you must use all the Features.\n",
    "\n",
    "### 2. Backward Elimination - Fastest\n",
    "1. Select a significance level to stay in the model. Ex. $SL_{Enter} = 0.05$\n",
    "2. Fit the full model with all possible predictors/ features.\n",
    "3. Consider the predictor with the highest P-Value. If P > SL then go to step 4, else FIN.\n",
    "4. Remove the predictor.\n",
    "5. Fit model without this variable.\n",
    "6. Go To Step 3.\n",
    "\n",
    "    **FIN. Model is Ready**\n",
    "\n",
    "\n",
    "### 3. Forward Selection\n",
    "1. Select the significance level to enter the model. E.x. $SL_{Stay} = 0.05$\n",
    "2. Fit all possible simple regression model and select the one with lowest P-value.\n",
    "3. Keep this variable and fit all possible models with one extra predictor added to the one(s) you already have.\n",
    "4. Consider the predictor with the lowest P-value. If P-value < SL Go to Step 3, else FIN.\n",
    "5. Keep the previous model.\n",
    "\n",
    "\n",
    "\n",
    "### 4. Bi-directional Elimination\n",
    "**It's a combination of Backward Elimination and Forward Selection.**\n",
    "1. Select a significance level to Enter and to stay in the model. \n",
    "\n",
    "Ex. $SL_{Enter} = 0.05$, $SL_{Stay} = 0.05$ \n",
    "\n",
    "2. Perform the next step of Forward Selection (Next variable must have: $P < SL_{Enter}$ to enter)\n",
    "3. Perform all steps of Backward Elimination (Old Variables must have: $P < SL_{Stay}$ to Stay)\n",
    "4. No new variables can enter and no old variables can exit.\n",
    "\n",
    "### 5. Score Comparison\n",
    "1. Select a criterion of goodness of fit.\n",
    "2. Construct all possible Regression Models: $2^N-1$ total combinations. **Resource Consuming approach.**\n",
    "3. Select the one with the best criterion.\n"
   ]
  },
  {
   "cell_type": "markdown",
   "metadata": {},
   "source": [
    "# Python Implementation"
   ]
  },
  {
   "cell_type": "markdown",
   "metadata": {},
   "source": [
    "## Data Preprocessing"
   ]
  },
  {
   "cell_type": "code",
   "execution_count": 32,
   "metadata": {},
   "outputs": [
    {
     "name": "stdout",
     "output_type": "stream",
     "text": [
      "dataset:\n",
      "    R&D Spend  Administration  Marketing Spend       State     Profit\n",
      "0  165349.20       136897.80        471784.10    New York  192261.83\n",
      "1  162597.70       151377.59        443898.53  California  191792.06\n",
      "2  153441.51       101145.55        407934.54     Florida  191050.39\n",
      "3  144372.41       118671.85        383199.62    New York  182901.99\n",
      "4  142107.34        91391.77        366168.42     Florida  166187.94\n",
      "\n",
      "x:\n",
      " [[165349.2 136897.8 471784.1 'New York']\n",
      " [162597.7 151377.59 443898.53 'California']\n",
      " [153441.51 101145.55 407934.54 'Florida']\n",
      " [144372.41 118671.85 383199.62 'New York']\n",
      " [142107.34 91391.77 366168.42 'Florida']\n",
      " [131876.9 99814.71 362861.36 'New York']\n",
      " [134615.46 147198.87 127716.82 'California']\n",
      " [130298.13 145530.06 323876.68 'Florida']\n",
      " [120542.52 148718.95 311613.29 'New York']\n",
      " [123334.88 108679.17 304981.62 'California']]\n",
      "\n",
      "y:\n",
      " [192261.83 191792.06 191050.39 182901.99 166187.94 156991.12 156122.51\n",
      " 155752.6  152211.77 149759.96]\n"
     ]
    }
   ],
   "source": [
    "# Importing Libraries\n",
    "import pandas as pd\n",
    "import numpy as np\n",
    "import matplotlib.pyplot as plt\n",
    "\n",
    "# Importing Dataset\n",
    "dataset = pd.read_csv(\"50_Startups.csv\")\n",
    "print(\"dataset:\\n\",dataset.head())\n",
    "\n",
    "## Now we need to separate the Features and label bcz our ML Models expects the data to be this way.\n",
    "x = dataset.iloc[:, :-1].values # iloc - Locate Indices\n",
    "y = dataset.iloc[:, -1].values\n",
    "print(\"\\nx:\\n\", x[:10])\n",
    "print(\"\\ny:\\n\", y[:10])\n",
    "\n"
   ]
  },
  {
   "cell_type": "code",
   "execution_count": 33,
   "metadata": {},
   "outputs": [
    {
     "name": "stdout",
     "output_type": "stream",
     "text": [
      "\n",
      " Null Value Report: \n",
      " R&D Spend          0\n",
      "Administration     0\n",
      "Marketing Spend    0\n",
      "State              0\n",
      "Profit             0\n",
      "dtype: int64\n"
     ]
    }
   ],
   "source": [
    "# Checking for missing values\n",
    "print(\"\\n Null Value Report: \\n\",dataset.isnull().sum())"
   ]
  },
  {
   "cell_type": "code",
   "execution_count": 34,
   "metadata": {},
   "outputs": [
    {
     "name": "stdout",
     "output_type": "stream",
     "text": [
      "\n",
      " OneHotEncoded x: \n",
      " [[0.0 1.0 165349.2 136897.8 471784.1]\n",
      " [0.0 0.0 162597.7 151377.59 443898.53]\n",
      " [1.0 0.0 153441.51 101145.55 407934.54]\n",
      " [0.0 1.0 144372.41 118671.85 383199.62]\n",
      " [1.0 0.0 142107.34 91391.77 366168.42]\n",
      " [0.0 1.0 131876.9 99814.71 362861.36]\n",
      " [0.0 0.0 134615.46 147198.87 127716.82]\n",
      " [1.0 0.0 130298.13 145530.06 323876.68]\n",
      " [0.0 1.0 120542.52 148718.95 311613.29]\n",
      " [0.0 0.0 123334.88 108679.17 304981.62]]\n"
     ]
    }
   ],
   "source": [
    "# If there is categorical feature in the Dataset use this - OneHotEncoder\n",
    "from sklearn.compose import ColumnTransformer\n",
    "from sklearn.preprocessing import OneHotEncoder\n",
    "ct = ColumnTransformer(transformers=[('encoder',OneHotEncoder(drop=\"first\"),[3])], \n",
    "                       remainder=\"passthrough\")\n",
    "x = ct.fit_transform(x)\n",
    "\n",
    "# our ML Model expects training data to be in np.array formt\n",
    "x = np.array(x)\n",
    "print(\"\\n OneHotEncoded x: \\n\", x[:10])"
   ]
  },
  {
   "cell_type": "code",
   "execution_count": 35,
   "metadata": {},
   "outputs": [
    {
     "name": "stdout",
     "output_type": "stream",
     "text": [
      "\n",
      "x_train:\n",
      " [[0.0 0.0 63408.86 129219.61 46085.25]\n",
      " [0.0 0.0 38558.51 82982.09 174999.3]\n",
      " [0.0 1.0 78389.47 153773.43 299737.29]\n",
      " [1.0 0.0 28663.76 127056.21 201126.82]\n",
      " [0.0 1.0 86419.7 153514.11 0.0]\n",
      " [0.0 0.0 23640.93 96189.63 148001.11]\n",
      " [0.0 0.0 0.0 116983.8 45173.06]\n",
      " [1.0 0.0 75328.87 144135.98 134050.07]\n",
      " [1.0 0.0 73994.56 122782.75 303319.26]\n",
      " [0.0 0.0 91992.39 135495.07 252664.93]]\n",
      "\n",
      "x_test:\n",
      " [[0.0 1.0 72107.6 127864.55 353183.81]\n",
      " [0.0 1.0 46014.02 85047.44 205517.64]\n",
      " [0.0 0.0 28754.33 118546.05 172795.67]\n",
      " [0.0 1.0 20229.59 65947.93 185265.1]\n",
      " [1.0 0.0 153441.51 101145.55 407934.54]]\n",
      "\n",
      "y_train:\n",
      " [ 97427.84  81005.76 111313.02  90708.19 122776.86  71498.49  14681.4\n",
      " 105733.54 110352.25 134307.35]\n",
      "\n",
      "y_test:\n",
      " [105008.31  96479.51  78239.91  81229.06 191050.39]\n"
     ]
    }
   ],
   "source": [
    "# Train Test Splitting\n",
    "from sklearn.model_selection import train_test_split\n",
    "x_train, x_test, y_train, y_test = train_test_split(x, y, test_size=0.2, random_state=1)\n",
    "print(\"\\nx_train:\\n\", x_train[:10])\n",
    "print(\"\\nx_test:\\n\", x_test[:5])\n",
    "print(\"\\ny_train:\\n\", y_train[:10])\n",
    "print(\"\\ny_test:\\n\", y_test[:5])"
   ]
  },
  {
   "cell_type": "code",
   "execution_count": 20,
   "metadata": {},
   "outputs": [
    {
     "name": "stdout",
     "output_type": "stream",
     "text": [
      "\n",
      "Scaled x_train: \n",
      " [[0.0 0.0 -0.32133038496226557 0.1870026674423921 -1.3700842498314485]\n",
      " [0.0 0.0 -0.8955888632549125 -1.6137113933587284 -0.2844217262777205]\n",
      " [0.0 1.0 0.02485155221349298 1.143247918493481 0.7660716916733847]\n",
      " [1.0 0.0 -1.1242433521488788 0.10274934245573336 -0.0643862119377357]\n",
      " [0.0 1.0 0.21041946816397095 1.1331487356167402 -1.758195776958278]\n",
      " [0.0 0.0 -1.240314261110831 -1.0993455063779118 -0.511789674820048]\n",
      " [0.0 0.0 -1.786624654615268 -0.2895193240547935 -1.377766348852932]\n",
      " [1.0 0.0 -0.045874835892206894 0.7679187112767505 -0.6292797489632386]\n",
      " [1.0 0.0 -0.07670896217898597 -0.06367998831873652 0.7962376091160047]\n",
      " [0.0 0.0 0.3391969091012878 0.43139962169069546 0.36964711927627564]]\n",
      "\n",
      "Scaled x_test: \n",
      " [[0.0 1.0 -0.12031409362377804 0.13423003614146675 1.2161768879523382]\n",
      " [0.0 1.0 -0.723301960756734 -1.5332766125686772 -0.027408483585626763]\n",
      " [0.0 0.0 -1.1221504001228924 -0.22867770578706312 -0.3029798160032289]\n",
      " [0.0 1.0 -1.3191457832961864 -2.2771044868018024 -0.1979672681771653]\n",
      " [1.0 0.0 1.7592041984804019 -0.9063378617593102 1.6772656187633614]]\n"
     ]
    }
   ],
   "source": [
    "# Feature Scaling\n",
    "from sklearn.preprocessing import StandardScaler\n",
    "sc = StandardScaler()\n",
    "x_train[:, 2:] = sc.fit_transform(x_train[:, 2:])\n",
    "x_test[:, 2:] = sc.transform(x_test[:, 2:])\n",
    "print(\"\\nScaled x_train: \\n\",x_train[:10])\n",
    "print(\"\\nScaled x_test: \\n\",x_test[:5])"
   ]
  },
  {
   "cell_type": "markdown",
   "metadata": {},
   "source": [
    "# Training the Multiple linear regression model "
   ]
  },
  {
   "cell_type": "code",
   "execution_count": 36,
   "metadata": {},
   "outputs": [
    {
     "data": {
      "text/plain": [
       "LinearRegression()"
      ]
     },
     "execution_count": 36,
     "metadata": {},
     "output_type": "execute_result"
    }
   ],
   "source": [
    "from sklearn.linear_model import LinearRegression\n",
    "lr = LinearRegression()\n",
    "lr.fit(x_train, y_train)"
   ]
  },
  {
   "cell_type": "markdown",
   "metadata": {},
   "source": [
    "# Predicting the results"
   ]
  },
  {
   "cell_type": "code",
   "execution_count": 37,
   "metadata": {},
   "outputs": [],
   "source": [
    "y_pred = lr.predict(x_test)\n",
    "np.set_printoptions(precision=2)"
   ]
  },
  {
   "cell_type": "code",
   "execution_count": 38,
   "metadata": {},
   "outputs": [
    {
     "data": {
      "text/plain": [
       "array([105008.31,  96479.51,  78239.91,  81229.06, 191050.39, 182901.99,\n",
       "        35673.41, 101004.64,  49490.75,  97483.56])"
      ]
     },
     "execution_count": 38,
     "metadata": {},
     "output_type": "execute_result"
    }
   ],
   "source": [
    "y_test"
   ]
  },
  {
   "cell_type": "code",
   "execution_count": 39,
   "metadata": {},
   "outputs": [
    {
     "data": {
      "text/plain": [
       "array([114664.42,  90593.16,  75692.84,  70221.89, 179790.26, 171576.92,\n",
       "        49753.59, 102276.66,  58649.38,  98272.03])"
      ]
     },
     "execution_count": 39,
     "metadata": {},
     "output_type": "execute_result"
    }
   ],
   "source": [
    "y_pred"
   ]
  },
  {
   "cell_type": "code",
   "execution_count": 42,
   "metadata": {},
   "outputs": [
    {
     "name": "stdout",
     "output_type": "stream",
     "text": [
      "[[114664.42 105008.31]\n",
      " [ 90593.16  96479.51]\n",
      " [ 75692.84  78239.91]\n",
      " [ 70221.89  81229.06]\n",
      " [179790.26 191050.39]\n",
      " [171576.92 182901.99]\n",
      " [ 49753.59  35673.41]\n",
      " [102276.66 101004.64]\n",
      " [ 58649.38  49490.75]\n",
      " [ 98272.03  97483.56]]\n"
     ]
    }
   ],
   "source": [
    "print(np.concatenate((y_pred.reshape(len(y_pred),1), y_test.reshape(len(y_test),1)), axis=1))"
   ]
  },
  {
   "cell_type": "code",
   "execution_count": null,
   "metadata": {},
   "outputs": [],
   "source": []
  }
 ],
 "metadata": {
  "kernelspec": {
   "display_name": "Python 3",
   "language": "python",
   "name": "python3"
  },
  "language_info": {
   "codemirror_mode": {
    "name": "ipython",
    "version": 3
   },
   "file_extension": ".py",
   "mimetype": "text/x-python",
   "name": "python",
   "nbconvert_exporter": "python",
   "pygments_lexer": "ipython3",
   "version": "3.7.7"
  }
 },
 "nbformat": 4,
 "nbformat_minor": 4
}
